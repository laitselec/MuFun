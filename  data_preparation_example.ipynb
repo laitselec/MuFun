{
 "cells": [
  {
   "cell_type": "code",
   "execution_count": 3,
   "metadata": {},
   "outputs": [],
   "source": [
    "import datasets\n",
    "from datasets import load_dataset\n",
    "\n",
    "gtzan = load_dataset(\"marsyas/gtzan\", \"all\").cast_column(\"audio\", datasets.Audio(decode=False))\n",
    "id2label_fn = gtzan[\"train\"].features[\"genre\"].int2str"
   ]
  },
  {
   "cell_type": "code",
   "execution_count": null,
   "metadata": {},
   "outputs": [],
   "source": [
    "gtzan[\"train\"][0]"
   ]
  },
  {
   "cell_type": "code",
   "execution_count": null,
   "metadata": {},
   "outputs": [],
   "source": [
    "import shortuuid\n",
    "import random\n",
    "import json\n",
    "from tqdm import tqdm\n",
    "import os\n",
    "\n",
    "gtzan_data = []\n",
    "\n",
    "gtzan_data_path = 'adata/gtzan_train.json'\n",
    "os.makedirs(os.path.dirname(gtzan_data_path), exist_ok=True)\n",
    "\n",
    "qlist = [\n",
    "    \"What genre does this music track belong to?\",\n",
    "    \"Can you tell me the genre of this musical piece?\",\n",
    "    \"What type of music is this track classified as?\",\n",
    "    \"What is the style of this particular music track?\",\n",
    "    \"Could you identify the genre of this song?\",\n",
    "    \"What category of music does this track fall under?\",\n",
    "    \"What musical genre is associated with this track?\",\n",
    "    \"How would you classify the genre of this music?\",\n",
    "    \"What genre is this specific track of music?\",\n",
    "    \"What kind of music genre does this track represent?\"\n",
    "]\n",
    "pp=\" (choose the genre from: blues, classical, country, disco, hiphop, jazz, metal, pop, reggae, and rock.)\"\n",
    "\n",
    "for sample in tqdm(gtzan[\"train\"]):\n",
    "    uuid = shortuuid.uuid()\n",
    "    sample_dict = dict()\n",
    "    sample_dict['id'] = uuid\n",
    "    \n",
    "    sample_dict['audio'] = sample['audio']['path']\n",
    "    \n",
    "    conversations = [\n",
    "        {\"from\": \"human\", \"value\": \"<audio>\\n\" + random.choice(qlist) + pp},\n",
    "        {\"from\": \"gpt\", \"value\": id2label_fn(sample[\"genre\"])}\n",
    "    ]\n",
    "    \n",
    "    sample_dict['conversations'] = conversations\n",
    "    gtzan_data.append(sample_dict)\n",
    "\n",
    "with open(gtzan_data_path, 'w') as f:\n",
    "    json.dump(gtzan_data, f, indent=4)\n",
    "\n"
   ]
  }
 ],
 "metadata": {
  "kernelspec": {
   "display_name": "tinyllava_factory",
   "language": "python",
   "name": "python3"
  },
  "language_info": {
   "codemirror_mode": {
    "name": "ipython",
    "version": 3
   },
   "file_extension": ".py",
   "mimetype": "text/x-python",
   "name": "python",
   "nbconvert_exporter": "python",
   "pygments_lexer": "ipython3",
   "version": "3.10.16"
  }
 },
 "nbformat": 4,
 "nbformat_minor": 2
}
